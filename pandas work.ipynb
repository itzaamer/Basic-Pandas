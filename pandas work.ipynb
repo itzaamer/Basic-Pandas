{
 "cells": [
  {
   "cell_type": "code",
   "execution_count": 2,
   "id": "684fafdb",
   "metadata": {},
   "outputs": [],
   "source": [
    "import pandas as pd\n",
    "import numpy as np"
   ]
  },
  {
   "cell_type": "markdown",
   "id": "387949ee",
   "metadata": {},
   "source": [
    "    Q - Loading the Dataset?"
   ]
  },
  {
   "cell_type": "code",
   "execution_count": 3,
   "id": "6ed7757b",
   "metadata": {},
   "outputs": [],
   "source": [
    "data = pd.read_csv(\"Forbes Billionaire 2020.csv\")"
   ]
  },
  {
   "cell_type": "markdown",
   "id": "abeb1844",
   "metadata": {},
   "source": [
    "    Q- print the top 3 of column of the dataset?"
   ]
  },
  {
   "cell_type": "code",
   "execution_count": 5,
   "id": "179252b0",
   "metadata": {
    "scrolled": false
   },
   "outputs": [
    {
     "data": {
      "text/html": [
       "<div>\n",
       "<style scoped>\n",
       "    .dataframe tbody tr th:only-of-type {\n",
       "        vertical-align: middle;\n",
       "    }\n",
       "\n",
       "    .dataframe tbody tr th {\n",
       "        vertical-align: top;\n",
       "    }\n",
       "\n",
       "    .dataframe thead th {\n",
       "        text-align: right;\n",
       "    }\n",
       "</style>\n",
       "<table border=\"1\" class=\"dataframe\">\n",
       "  <thead>\n",
       "    <tr style=\"text-align: right;\">\n",
       "      <th></th>\n",
       "      <th>Name</th>\n",
       "      <th>NetWorth in billions</th>\n",
       "      <th>Country</th>\n",
       "      <th>Source</th>\n",
       "      <th>Rank</th>\n",
       "      <th>Age</th>\n",
       "      <th>Industry</th>\n",
       "    </tr>\n",
       "  </thead>\n",
       "  <tbody>\n",
       "    <tr>\n",
       "      <th>0</th>\n",
       "      <td>Jeff Bezos</td>\n",
       "      <td>177.0</td>\n",
       "      <td>United States</td>\n",
       "      <td>Amazon</td>\n",
       "      <td>1</td>\n",
       "      <td>57</td>\n",
       "      <td>Technology</td>\n",
       "    </tr>\n",
       "    <tr>\n",
       "      <th>1</th>\n",
       "      <td>Elon Musk</td>\n",
       "      <td>151.0</td>\n",
       "      <td>United States</td>\n",
       "      <td>Tesla, SpaceX</td>\n",
       "      <td>2</td>\n",
       "      <td>49</td>\n",
       "      <td>Automotive</td>\n",
       "    </tr>\n",
       "    <tr>\n",
       "      <th>2</th>\n",
       "      <td>Bernard Arnault &amp; family</td>\n",
       "      <td>150.0</td>\n",
       "      <td>France</td>\n",
       "      <td>LVMH</td>\n",
       "      <td>3</td>\n",
       "      <td>72</td>\n",
       "      <td>Fashion &amp; Retail</td>\n",
       "    </tr>\n",
       "  </tbody>\n",
       "</table>\n",
       "</div>"
      ],
      "text/plain": [
       "                       Name  NetWorth in billions        Country  \\\n",
       "0                Jeff Bezos                 177.0  United States   \n",
       "1                 Elon Musk                 151.0  United States   \n",
       "2  Bernard Arnault & family                 150.0         France   \n",
       "\n",
       "          Source  Rank  Age          Industry  \n",
       "0         Amazon     1   57        Technology  \n",
       "1  Tesla, SpaceX     2   49        Automotive  \n",
       "2           LVMH     3   72  Fashion & Retail  "
      ]
     },
     "execution_count": 5,
     "metadata": {},
     "output_type": "execute_result"
    }
   ],
   "source": [
    "data.head(3)"
   ]
  },
  {
   "cell_type": "markdown",
   "id": "4dc58de3",
   "metadata": {},
   "source": [
    "     Q- print the Last 3 of column of the dataset?"
   ]
  },
  {
   "cell_type": "code",
   "execution_count": 6,
   "id": "61b52c6a",
   "metadata": {},
   "outputs": [
    {
     "data": {
      "text/html": [
       "<div>\n",
       "<style scoped>\n",
       "    .dataframe tbody tr th:only-of-type {\n",
       "        vertical-align: middle;\n",
       "    }\n",
       "\n",
       "    .dataframe tbody tr th {\n",
       "        vertical-align: top;\n",
       "    }\n",
       "\n",
       "    .dataframe thead th {\n",
       "        text-align: right;\n",
       "    }\n",
       "</style>\n",
       "<table border=\"1\" class=\"dataframe\">\n",
       "  <thead>\n",
       "    <tr style=\"text-align: right;\">\n",
       "      <th></th>\n",
       "      <th>Name</th>\n",
       "      <th>NetWorth in billions</th>\n",
       "      <th>Country</th>\n",
       "      <th>Source</th>\n",
       "      <th>Rank</th>\n",
       "      <th>Age</th>\n",
       "      <th>Industry</th>\n",
       "    </tr>\n",
       "  </thead>\n",
       "  <tbody>\n",
       "    <tr>\n",
       "      <th>2752</th>\n",
       "      <td>Zhao Meiguang</td>\n",
       "      <td>1.0</td>\n",
       "      <td>China</td>\n",
       "      <td>gold mining</td>\n",
       "      <td>2674</td>\n",
       "      <td>58</td>\n",
       "      <td>Metals &amp; Mining</td>\n",
       "    </tr>\n",
       "    <tr>\n",
       "      <th>2753</th>\n",
       "      <td>Zhong Naixiong</td>\n",
       "      <td>1.0</td>\n",
       "      <td>China</td>\n",
       "      <td>conglomerate</td>\n",
       "      <td>2674</td>\n",
       "      <td>58</td>\n",
       "      <td>Diversified</td>\n",
       "    </tr>\n",
       "    <tr>\n",
       "      <th>2754</th>\n",
       "      <td>Zhou Wei family</td>\n",
       "      <td>1.0</td>\n",
       "      <td>China</td>\n",
       "      <td>Software</td>\n",
       "      <td>2674</td>\n",
       "      <td>54</td>\n",
       "      <td>Technology</td>\n",
       "    </tr>\n",
       "  </tbody>\n",
       "</table>\n",
       "</div>"
      ],
      "text/plain": [
       "                 Name  NetWorth in billions Country        Source  Rank  Age  \\\n",
       "2752    Zhao Meiguang                   1.0   China   gold mining  2674   58   \n",
       "2753   Zhong Naixiong                   1.0   China  conglomerate  2674   58   \n",
       "2754  Zhou Wei family                   1.0   China      Software  2674   54   \n",
       "\n",
       "             Industry  \n",
       "2752  Metals & Mining  \n",
       "2753      Diversified  \n",
       "2754       Technology  "
      ]
     },
     "execution_count": 6,
     "metadata": {},
     "output_type": "execute_result"
    }
   ],
   "source": [
    "data.tail(3)"
   ]
  },
  {
   "cell_type": "markdown",
   "id": "8680a483",
   "metadata": {},
   "source": [
    "    Q - Shape of the dataset?"
   ]
  },
  {
   "cell_type": "code",
   "execution_count": 6,
   "id": "d893c861",
   "metadata": {},
   "outputs": [
    {
     "data": {
      "text/plain": [
       "(2755, 7)"
      ]
     },
     "execution_count": 6,
     "metadata": {},
     "output_type": "execute_result"
    }
   ],
   "source": [
    "data.shape"
   ]
  },
  {
   "cell_type": "markdown",
   "id": "695b0ee4",
   "metadata": {},
   "source": [
    "    print the column name?"
   ]
  },
  {
   "cell_type": "code",
   "execution_count": 13,
   "id": "a4716617",
   "metadata": {
    "scrolled": true
   },
   "outputs": [
    {
     "data": {
      "text/plain": [
       "Index(['Name', 'NetWorth in billions', 'Country', 'Source', 'Rank', 'Age',\n",
       "       'Industry'],\n",
       "      dtype='object')"
      ]
     },
     "execution_count": 13,
     "metadata": {},
     "output_type": "execute_result"
    }
   ],
   "source": [
    "data.columns"
   ]
  },
  {
   "cell_type": "markdown",
   "id": "c9d88f19",
   "metadata": {},
   "source": [
    "    Q - What is the maximum age of the billioners"
   ]
  },
  {
   "cell_type": "code",
   "execution_count": 4,
   "id": "017c6e3f",
   "metadata": {},
   "outputs": [
    {
     "data": {
      "text/plain": [
       "97"
      ]
     },
     "execution_count": 4,
     "metadata": {},
     "output_type": "execute_result"
    }
   ],
   "source": [
    "data['Age'].max()"
   ]
  },
  {
   "cell_type": "markdown",
   "id": "731336db",
   "metadata": {},
   "source": [
    "    Q - print the name of the billioners who is having the age 97"
   ]
  },
  {
   "cell_type": "code",
   "execution_count": 5,
   "id": "1906c7c3",
   "metadata": {},
   "outputs": [
    {
     "data": {
      "text/plain": [
       "170        Robert Kuok\n",
       "1559     David Murdock\n",
       "1626    Charles Munger\n",
       "Name: Name, dtype: object"
      ]
     },
     "execution_count": 5,
     "metadata": {},
     "output_type": "execute_result"
    }
   ],
   "source": [
    "data[\"Name\"][data['Age']==97]"
   ]
  },
  {
   "cell_type": "markdown",
   "id": "43fcfbbd",
   "metadata": {},
   "source": [
    "    Q print the statistical representation of the Age column?"
   ]
  },
  {
   "cell_type": "code",
   "execution_count": 7,
   "id": "363da40d",
   "metadata": {
    "scrolled": true
   },
   "outputs": [
    {
     "data": {
      "text/plain": [
       "count    2755.000000\n",
       "mean       63.014519\n",
       "std        13.259017\n",
       "min        18.000000\n",
       "25%        54.000000\n",
       "50%        62.000000\n",
       "75%        72.000000\n",
       "max        97.000000\n",
       "Name: Age, dtype: float64"
      ]
     },
     "execution_count": 7,
     "metadata": {},
     "output_type": "execute_result"
    }
   ],
   "source": [
    "data['Age'].describe()"
   ]
  },
  {
   "cell_type": "markdown",
   "id": "3c551721",
   "metadata": {},
   "source": [
    "    print the count of country column having the values"
   ]
  },
  {
   "cell_type": "code",
   "execution_count": 11,
   "id": "30af598e",
   "metadata": {},
   "outputs": [
    {
     "data": {
      "text/plain": [
       "United States    724\n",
       "China            626\n",
       "India            140\n",
       "Germany          136\n",
       "Russia           118\n",
       "                ... \n",
       "Zimbabwe           1\n",
       "Algeria            1\n",
       "Venezuela          1\n",
       "Tanzania           1\n",
       "Liechtenstein      1\n",
       "Name: Country, Length: 70, dtype: int64"
      ]
     },
     "execution_count": 11,
     "metadata": {},
     "output_type": "execute_result"
    }
   ],
   "source": [
    "data[\"Country\"].value_counts()"
   ]
  },
  {
   "cell_type": "markdown",
   "id": "351ebf86",
   "metadata": {},
   "source": [
    "    print the name which is having the country \"india\""
   ]
  },
  {
   "cell_type": "code",
   "execution_count": 12,
   "id": "e684d5df",
   "metadata": {
    "scrolled": true
   },
   "outputs": [
    {
     "data": {
      "text/plain": [
       "9               Mukesh Ambani\n",
       "23      Gautam Adani & family\n",
       "71                 Shiv Nadar\n",
       "116        Radhakishan Damani\n",
       "122                Uday Kotak\n",
       "                ...          \n",
       "2683         Ramesh Kumar Dua\n",
       "2698            Ashok Kajaria\n",
       "2699        T.S. Kalyanaraman\n",
       "2712            Rafique Malik\n",
       "2715           Mofatraj Munot\n",
       "Name: Name, Length: 140, dtype: object"
      ]
     },
     "execution_count": 12,
     "metadata": {},
     "output_type": "execute_result"
    }
   ],
   "source": [
    "data['Name'][data[\"Country\"]=='India']"
   ]
  },
  {
   "cell_type": "markdown",
   "id": "d5988ee2",
   "metadata": {},
   "source": [
    "    print the name column?"
   ]
  },
  {
   "cell_type": "code",
   "execution_count": 15,
   "id": "cbbd86e6",
   "metadata": {
    "scrolled": true
   },
   "outputs": [
    {
     "data": {
      "text/plain": [
       "0                     Jeff Bezos\n",
       "1                      Elon Musk\n",
       "2       Bernard Arnault & family\n",
       "3                     Bill Gates\n",
       "4                Mark Zuckerberg\n",
       "                  ...           \n",
       "2750           Daniel Yong Zhang\n",
       "2751               Zhang Yuqiang\n",
       "2752               Zhao Meiguang\n",
       "2753              Zhong Naixiong\n",
       "2754             Zhou Wei family\n",
       "Name: Name, Length: 2755, dtype: object"
      ]
     },
     "execution_count": 15,
     "metadata": {},
     "output_type": "execute_result"
    }
   ],
   "source": [
    "data.Name"
   ]
  },
  {
   "cell_type": "markdown",
   "id": "4409d151",
   "metadata": {},
   "source": [
    "    - another way bto print the Age column"
   ]
  },
  {
   "cell_type": "code",
   "execution_count": 17,
   "id": "3e11469d",
   "metadata": {
    "scrolled": true
   },
   "outputs": [
    {
     "data": {
      "text/plain": [
       "0       57\n",
       "1       49\n",
       "2       72\n",
       "3       65\n",
       "4       36\n",
       "        ..\n",
       "2750    49\n",
       "2751    65\n",
       "2752    58\n",
       "2753    58\n",
       "2754    54\n",
       "Name: Age, Length: 2755, dtype: int64"
      ]
     },
     "execution_count": 17,
     "metadata": {},
     "output_type": "execute_result"
    }
   ],
   "source": [
    "data['Age']"
   ]
  },
  {
   "cell_type": "code",
   "execution_count": 18,
   "id": "fb3a1b3b",
   "metadata": {},
   "outputs": [
    {
     "data": {
      "text/plain": [
       "0       United States\n",
       "1       United States\n",
       "2              France\n",
       "3       United States\n",
       "4       United States\n",
       "            ...      \n",
       "2750            China\n",
       "2751            China\n",
       "2752            China\n",
       "2753            China\n",
       "2754            China\n",
       "Name: Country, Length: 2755, dtype: object"
      ]
     },
     "execution_count": 18,
     "metadata": {},
     "output_type": "execute_result"
    }
   ],
   "source": [
    "data['Country']"
   ]
  },
  {
   "cell_type": "markdown",
   "id": "20225fbb",
   "metadata": {},
   "source": [
    "     print the both name and age column?"
   ]
  },
  {
   "cell_type": "code",
   "execution_count": 16,
   "id": "6b5c126d",
   "metadata": {
    "scrolled": true
   },
   "outputs": [
    {
     "data": {
      "text/html": [
       "<div>\n",
       "<style scoped>\n",
       "    .dataframe tbody tr th:only-of-type {\n",
       "        vertical-align: middle;\n",
       "    }\n",
       "\n",
       "    .dataframe tbody tr th {\n",
       "        vertical-align: top;\n",
       "    }\n",
       "\n",
       "    .dataframe thead th {\n",
       "        text-align: right;\n",
       "    }\n",
       "</style>\n",
       "<table border=\"1\" class=\"dataframe\">\n",
       "  <thead>\n",
       "    <tr style=\"text-align: right;\">\n",
       "      <th></th>\n",
       "      <th>Name</th>\n",
       "      <th>Age</th>\n",
       "    </tr>\n",
       "  </thead>\n",
       "  <tbody>\n",
       "    <tr>\n",
       "      <th>0</th>\n",
       "      <td>Jeff Bezos</td>\n",
       "      <td>57</td>\n",
       "    </tr>\n",
       "    <tr>\n",
       "      <th>1</th>\n",
       "      <td>Elon Musk</td>\n",
       "      <td>49</td>\n",
       "    </tr>\n",
       "    <tr>\n",
       "      <th>2</th>\n",
       "      <td>Bernard Arnault &amp; family</td>\n",
       "      <td>72</td>\n",
       "    </tr>\n",
       "    <tr>\n",
       "      <th>3</th>\n",
       "      <td>Bill Gates</td>\n",
       "      <td>65</td>\n",
       "    </tr>\n",
       "    <tr>\n",
       "      <th>4</th>\n",
       "      <td>Mark Zuckerberg</td>\n",
       "      <td>36</td>\n",
       "    </tr>\n",
       "    <tr>\n",
       "      <th>...</th>\n",
       "      <td>...</td>\n",
       "      <td>...</td>\n",
       "    </tr>\n",
       "    <tr>\n",
       "      <th>2750</th>\n",
       "      <td>Daniel Yong Zhang</td>\n",
       "      <td>49</td>\n",
       "    </tr>\n",
       "    <tr>\n",
       "      <th>2751</th>\n",
       "      <td>Zhang Yuqiang</td>\n",
       "      <td>65</td>\n",
       "    </tr>\n",
       "    <tr>\n",
       "      <th>2752</th>\n",
       "      <td>Zhao Meiguang</td>\n",
       "      <td>58</td>\n",
       "    </tr>\n",
       "    <tr>\n",
       "      <th>2753</th>\n",
       "      <td>Zhong Naixiong</td>\n",
       "      <td>58</td>\n",
       "    </tr>\n",
       "    <tr>\n",
       "      <th>2754</th>\n",
       "      <td>Zhou Wei family</td>\n",
       "      <td>54</td>\n",
       "    </tr>\n",
       "  </tbody>\n",
       "</table>\n",
       "<p>2755 rows × 2 columns</p>\n",
       "</div>"
      ],
      "text/plain": [
       "                          Name  Age\n",
       "0                   Jeff Bezos   57\n",
       "1                    Elon Musk   49\n",
       "2     Bernard Arnault & family   72\n",
       "3                   Bill Gates   65\n",
       "4              Mark Zuckerberg   36\n",
       "...                        ...  ...\n",
       "2750         Daniel Yong Zhang   49\n",
       "2751             Zhang Yuqiang   65\n",
       "2752             Zhao Meiguang   58\n",
       "2753            Zhong Naixiong   58\n",
       "2754           Zhou Wei family   54\n",
       "\n",
       "[2755 rows x 2 columns]"
      ]
     },
     "execution_count": 16,
     "metadata": {},
     "output_type": "execute_result"
    }
   ],
   "source": [
    "data[['Name','Age']]"
   ]
  },
  {
   "cell_type": "markdown",
   "id": "10777356",
   "metadata": {},
   "source": [
    "    Checking the null value present insdie the Dataset?"
   ]
  },
  {
   "cell_type": "code",
   "execution_count": 23,
   "id": "145ad28a",
   "metadata": {
    "scrolled": true
   },
   "outputs": [
    {
     "data": {
      "text/html": [
       "<div>\n",
       "<style scoped>\n",
       "    .dataframe tbody tr th:only-of-type {\n",
       "        vertical-align: middle;\n",
       "    }\n",
       "\n",
       "    .dataframe tbody tr th {\n",
       "        vertical-align: top;\n",
       "    }\n",
       "\n",
       "    .dataframe thead th {\n",
       "        text-align: right;\n",
       "    }\n",
       "</style>\n",
       "<table border=\"1\" class=\"dataframe\">\n",
       "  <thead>\n",
       "    <tr style=\"text-align: right;\">\n",
       "      <th></th>\n",
       "      <th>Name</th>\n",
       "      <th>NetWorth in billions</th>\n",
       "      <th>Country</th>\n",
       "      <th>Source</th>\n",
       "      <th>Rank</th>\n",
       "      <th>Age</th>\n",
       "      <th>Industry</th>\n",
       "    </tr>\n",
       "  </thead>\n",
       "  <tbody>\n",
       "    <tr>\n",
       "      <th>0</th>\n",
       "      <td>False</td>\n",
       "      <td>False</td>\n",
       "      <td>False</td>\n",
       "      <td>False</td>\n",
       "      <td>False</td>\n",
       "      <td>False</td>\n",
       "      <td>False</td>\n",
       "    </tr>\n",
       "    <tr>\n",
       "      <th>1</th>\n",
       "      <td>False</td>\n",
       "      <td>False</td>\n",
       "      <td>False</td>\n",
       "      <td>False</td>\n",
       "      <td>False</td>\n",
       "      <td>False</td>\n",
       "      <td>False</td>\n",
       "    </tr>\n",
       "    <tr>\n",
       "      <th>2</th>\n",
       "      <td>False</td>\n",
       "      <td>False</td>\n",
       "      <td>False</td>\n",
       "      <td>False</td>\n",
       "      <td>False</td>\n",
       "      <td>False</td>\n",
       "      <td>False</td>\n",
       "    </tr>\n",
       "    <tr>\n",
       "      <th>3</th>\n",
       "      <td>False</td>\n",
       "      <td>False</td>\n",
       "      <td>False</td>\n",
       "      <td>False</td>\n",
       "      <td>False</td>\n",
       "      <td>False</td>\n",
       "      <td>False</td>\n",
       "    </tr>\n",
       "    <tr>\n",
       "      <th>4</th>\n",
       "      <td>False</td>\n",
       "      <td>False</td>\n",
       "      <td>False</td>\n",
       "      <td>False</td>\n",
       "      <td>False</td>\n",
       "      <td>False</td>\n",
       "      <td>False</td>\n",
       "    </tr>\n",
       "    <tr>\n",
       "      <th>...</th>\n",
       "      <td>...</td>\n",
       "      <td>...</td>\n",
       "      <td>...</td>\n",
       "      <td>...</td>\n",
       "      <td>...</td>\n",
       "      <td>...</td>\n",
       "      <td>...</td>\n",
       "    </tr>\n",
       "    <tr>\n",
       "      <th>2750</th>\n",
       "      <td>False</td>\n",
       "      <td>False</td>\n",
       "      <td>False</td>\n",
       "      <td>False</td>\n",
       "      <td>False</td>\n",
       "      <td>False</td>\n",
       "      <td>False</td>\n",
       "    </tr>\n",
       "    <tr>\n",
       "      <th>2751</th>\n",
       "      <td>False</td>\n",
       "      <td>False</td>\n",
       "      <td>False</td>\n",
       "      <td>False</td>\n",
       "      <td>False</td>\n",
       "      <td>False</td>\n",
       "      <td>False</td>\n",
       "    </tr>\n",
       "    <tr>\n",
       "      <th>2752</th>\n",
       "      <td>False</td>\n",
       "      <td>False</td>\n",
       "      <td>False</td>\n",
       "      <td>False</td>\n",
       "      <td>False</td>\n",
       "      <td>False</td>\n",
       "      <td>False</td>\n",
       "    </tr>\n",
       "    <tr>\n",
       "      <th>2753</th>\n",
       "      <td>False</td>\n",
       "      <td>False</td>\n",
       "      <td>False</td>\n",
       "      <td>False</td>\n",
       "      <td>False</td>\n",
       "      <td>False</td>\n",
       "      <td>False</td>\n",
       "    </tr>\n",
       "    <tr>\n",
       "      <th>2754</th>\n",
       "      <td>False</td>\n",
       "      <td>False</td>\n",
       "      <td>False</td>\n",
       "      <td>False</td>\n",
       "      <td>False</td>\n",
       "      <td>False</td>\n",
       "      <td>False</td>\n",
       "    </tr>\n",
       "  </tbody>\n",
       "</table>\n",
       "<p>2755 rows × 7 columns</p>\n",
       "</div>"
      ],
      "text/plain": [
       "       Name  NetWorth in billions  Country  Source   Rank    Age  Industry\n",
       "0     False                 False    False   False  False  False     False\n",
       "1     False                 False    False   False  False  False     False\n",
       "2     False                 False    False   False  False  False     False\n",
       "3     False                 False    False   False  False  False     False\n",
       "4     False                 False    False   False  False  False     False\n",
       "...     ...                   ...      ...     ...    ...    ...       ...\n",
       "2750  False                 False    False   False  False  False     False\n",
       "2751  False                 False    False   False  False  False     False\n",
       "2752  False                 False    False   False  False  False     False\n",
       "2753  False                 False    False   False  False  False     False\n",
       "2754  False                 False    False   False  False  False     False\n",
       "\n",
       "[2755 rows x 7 columns]"
      ]
     },
     "execution_count": 23,
     "metadata": {},
     "output_type": "execute_result"
    }
   ],
   "source": [
    "data.isnull()"
   ]
  },
  {
   "cell_type": "markdown",
   "id": "6357fb30",
   "metadata": {},
   "source": [
    "    Checking the missing value inside the data?"
   ]
  },
  {
   "cell_type": "code",
   "execution_count": 26,
   "id": "5f60c732",
   "metadata": {},
   "outputs": [
    {
     "data": {
      "text/plain": [
       "Name                    0\n",
       "NetWorth in billions    0\n",
       "Country                 0\n",
       "Source                  0\n",
       "Rank                    0\n",
       "Age                     0\n",
       "Industry                0\n",
       "dtype: int64"
      ]
     },
     "execution_count": 26,
     "metadata": {},
     "output_type": "execute_result"
    }
   ],
   "source": [
    "data.isnull().sum()"
   ]
  }
 ],
 "metadata": {
  "kernelspec": {
   "display_name": "Python 3",
   "language": "python",
   "name": "python3"
  },
  "language_info": {
   "codemirror_mode": {
    "name": "ipython",
    "version": 3
   },
   "file_extension": ".py",
   "mimetype": "text/x-python",
   "name": "python",
   "nbconvert_exporter": "python",
   "pygments_lexer": "ipython3",
   "version": "3.8.8"
  }
 },
 "nbformat": 4,
 "nbformat_minor": 5
}
